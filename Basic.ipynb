{
 "cells": [
  {
   "cell_type": "code",
   "execution_count": 1,
   "metadata": {},
   "outputs": [
    {
     "name": "stderr",
     "output_type": "stream",
     "text": [
      "c:\\Users\\layas\\anaconda3\\envs\\Python310\\lib\\site-packages\\tqdm\\auto.py:22: TqdmWarning: IProgress not found. Please update jupyter and ipywidgets. See https://ipywidgets.readthedocs.io/en/stable/user_install.html\n",
      "  from .autonotebook import tqdm as notebook_tqdm\n"
     ]
    }
   ],
   "source": [
    "from transformers import AutoModelForSeq2SeqLM, AutoTokenizer\n",
    "import math\n",
    "import torch\n",
    "import wikipedia\n",
    "import IPython\n",
    "import pandas as pd"
   ]
  },
  {
   "cell_type": "code",
   "execution_count": 2,
   "metadata": {},
   "outputs": [],
   "source": [
    "tokenizer = AutoTokenizer.from_pretrained(\"Babelscape/rebel-large\")\n",
    "model = AutoModelForSeq2SeqLM.from_pretrained(\"Babelscape/rebel-large\")"
   ]
  },
  {
   "cell_type": "code",
   "execution_count": 12,
   "metadata": {},
   "outputs": [],
   "source": [
    "test_text='''DEWA Launched DEWA-SAT-1 \n",
    "nanosatellite  \n",
    "(the world’s first utility to use \n",
    "nanosatellite) on 13 January \n",
    "2022 and has received DEWA-SAT-1 \n",
    "nanosatellite  \n",
    "(the world’s first utility to use \n",
    "nanosatellite)'s  '''"
   ]
  },
  {
   "cell_type": "code",
   "execution_count": 11,
   "metadata": {},
   "outputs": [
    {
     "name": "stdout",
     "output_type": "stream",
     "text": [
      "Num tokens:79\n"
     ]
    },
    {
     "data": {
      "text/plain": [
       "['<s><triplet> DEWA-SAT-1 ークnanosatellite <subj> 13 January <obj> service entry</s><pad><pad><pad><pad><pad><pad><pad><pad><pad><pad><pad><pad><pad><pad><pad><pad><pad><pad><pad><pad><pad><pad>',\n",
       " '<s><triplet> DEWA-SAT-1 ークnanosatellite <subj> 13 January <obj> start time</s><pad><pad><pad><pad><pad><pad><pad><pad><pad><pad><pad><pad><pad><pad><pad><pad><pad><pad><pad><pad><pad><pad>',\n",
       " '<s><triplet> DEWA-SAT-1 ークnanosatellite <subj> 13 January <obj> service entry <triplet> DEWA-SAT-1 ークnanosatellite <subj> 13 January <obj> service entry</s>']"
      ]
     },
     "execution_count": 11,
     "metadata": {},
     "output_type": "execute_result"
    }
   ],
   "source": [
    "model_inputs = tokenizer(test_text,\n",
    "                         max_length=512,\n",
    "                         padding=True,\n",
    "                         truncation=True,\n",
    "                         return_tensors='pt')\n",
    "print(f\"Num tokens:{len(model_inputs['input_ids'][0])}\")\n",
    "\n",
    "gen_kwargs={\n",
    "    \"max_length\":216,\n",
    "    \"length_penalty\":0,\n",
    "    \"num_beams\":5,\n",
    "    \"num_return_sequences\":3\n",
    "}\n",
    "\n",
    "generated_tokens = model.generate(\n",
    "    **model_inputs,\n",
    "    **gen_kwargs,\n",
    ")\n",
    "\n",
    "decoded_preds = tokenizer.batch_decode(generated_tokens, skip_special_tokens=False)\n",
    "decoded_preds"
   ]
  },
  {
   "cell_type": "code",
   "execution_count": 5,
   "metadata": {},
   "outputs": [],
   "source": [
    "test_text=\"The Solar Park is the largest in the world. It supports the Dubai Clean Energy Strategy 2050.\""
   ]
  },
  {
   "cell_type": "code",
   "execution_count": 8,
   "metadata": {},
   "outputs": [
    {
     "name": "stdout",
     "output_type": "stream",
     "text": [
      "Num tokens:21\n"
     ]
    },
    {
     "data": {
      "text/plain": [
       "['<s><triplet> Dubai Clean Energy Strategy 2050 <subj> 2050 <obj> point in time</s>',\n",
       " '<s><triplet> Solar Park <subj> Dubai <obj> located in the administrative territorial entity</s>',\n",
       " '<s><triplet> Dubai Clean Energy Strategy <subj> 2050 <obj> point in time</s><pad>',\n",
       " '<s><triplet> Clean Energy Strategy 2050 <subj> 2050 <obj> point in time</s><pad>',\n",
       " '<s><triplet> Solar Park <subj> Dubai Clean Energy Strategy 2050 <obj> part of</s>']"
      ]
     },
     "execution_count": 8,
     "metadata": {},
     "output_type": "execute_result"
    }
   ],
   "source": [
    "model_inputs = tokenizer(test_text,\n",
    "                         max_length=512,\n",
    "                         padding=True,\n",
    "                         truncation=True,\n",
    "                         return_tensors='pt')\n",
    "print(f\"Num tokens:{len(model_inputs['input_ids'][0])}\")\n",
    "\n",
    "gen_kwargs={\n",
    "    \"max_length\":216,\n",
    "    \"length_penalty\":0,\n",
    "    \"num_beams\":5,\n",
    "    \"num_return_sequences\":5\n",
    "}\n",
    "\n",
    "generated_tokens = model.generate(\n",
    "    **model_inputs,\n",
    "    **gen_kwargs,\n",
    ")\n",
    "\n",
    "decoded_preds = tokenizer.batch_decode(generated_tokens, skip_special_tokens=False)\n",
    "decoded_preds"
   ]
  },
  {
   "cell_type": "code",
   "execution_count": 13,
   "metadata": {},
   "outputs": [],
   "source": [
    "def extract_relations_from_model_output(text):\n",
    "    relations=[]\n",
    "    relation, subject, relation, object_='','','',''\n",
    "    text = text.strip()\n",
    "    current = 'x'\n",
    "    text_replaced = text.replace(\"<s>\",\"\").replace(\"<pad>\",\"\").replace(\"</s>\",\"\")\n",
    "    for token in text_replaced.split():\n",
    "        if token == \"<triplet>\":\n",
    "            current = 't'\n",
    "            if relation != '':\n",
    "                relations.append({\n",
    "                    'head':subject.strip(),\n",
    "                    'type':relation.strip(),\n",
    "                    'tail':object_.strip()\n",
    "                })\n",
    "                relation = ''\n",
    "            subject=''\n",
    "        elif token == \"<subj>\":\n",
    "            current = 's'\n",
    "            if relation != '':\n",
    "                relations.append({\n",
    "                    'head':subject.strip(),\n",
    "                    'type':relation.strip(),\n",
    "                    'tail':object_.strip()\n",
    "                })\n",
    "            object_ = ''\n",
    "        elif token == \"<obj>\":\n",
    "            current = 'o'\n",
    "            relation = ''\n",
    "        else:\n",
    "            if current == 't':\n",
    "                subject += ' ' + token\n",
    "            elif current == 's':\n",
    "                object_ += ' ' + token\n",
    "            elif current == 'o':\n",
    "                relation += ' ' + token\n",
    "    if subject != '' and relation != '' and object_ != '':\n",
    "        relations.append({\n",
    "            'head':subject.strip(),\n",
    "            'type':relation.strip(),\n",
    "            'tail':object_.strip()\n",
    "        })\n",
    "    return relations\n"
   ]
  },
  {
   "cell_type": "code",
   "execution_count": 15,
   "metadata": {},
   "outputs": [
    {
     "ename": "",
     "evalue": "",
     "output_type": "error",
     "traceback": [
      "\u001b[1;31mThe Kernel crashed while executing code in the current cell or a previous cell. \n",
      "\u001b[1;31mPlease review the code in the cell(s) to identify a possible cause of the failure. \n",
      "\u001b[1;31mClick <a href='https://aka.ms/vscodeJupyterKernelCrash'>here</a> for more info. \n",
      "\u001b[1;31mView Jupyter <a href='command:jupyter.viewOutput'>log</a> for further details."
     ]
    }
   ],
   "source": [
    "class KB():\n",
    "    def __init__(self):\n",
    "        self.relations = []\n",
    "    def are_relations_equal(self, r1, r2):\n",
    "        return all(r1[attr] == r2[attr] for attr in [\"head\", \"type\", \"tail\"])\n",
    "    def exists_relation(self,r1):\n",
    "        return any(self.are_relations_equal(r1,r2) for r2 in self.relations)\n",
    "    def add_relation(self,r):\n",
    "        if not self.exists_relation(r):\n",
    "            self.relations.append(r)\n",
    "    def print(self):\n",
    "        print(\"relations:\")\n",
    "        for r in self_relations:\n",
    "            print(f\"  {r}\")"
   ]
  },
  {
   "cell_type": "code",
   "execution_count": null,
   "metadata": {},
   "outputs": [],
   "source": [
    "def from_small_text_to_kb(text,verbose=False):\n",
    "    kb = KB()"
   ]
  }
 ],
 "metadata": {
  "kernelspec": {
   "display_name": "Python310",
   "language": "python",
   "name": "python3"
  },
  "language_info": {
   "codemirror_mode": {
    "name": "ipython",
    "version": 3
   },
   "file_extension": ".py",
   "mimetype": "text/x-python",
   "name": "python",
   "nbconvert_exporter": "python",
   "pygments_lexer": "ipython3",
   "version": "3.10.14"
  }
 },
 "nbformat": 4,
 "nbformat_minor": 2
}
